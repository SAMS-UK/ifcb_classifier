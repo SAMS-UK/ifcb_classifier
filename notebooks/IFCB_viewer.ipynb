{
 "cells": [
  {
   "cell_type": "markdown",
   "id": "0848ac3a",
   "metadata": {},
   "source": [
    "# Read IFCB raw data\n",
    "How to generate images from IFCB raw data"
   ]
  },
  {
   "cell_type": "code",
   "execution_count": null,
   "id": "db20b21d",
   "metadata": {},
   "outputs": [],
   "source": [
    "import h5py\n",
    "import torch\n",
    "import ifcb\n",
    "from ifcb.data.adc import SCHEMA_VERSION_1\n",
    "from ifcb.data.stitching import InfilledImages\n",
    "import os\n",
    "from torch.utils.data import Dataset, DataLoader\n",
    "from torchvision import transforms, datasets\n",
    "import numpy as np\n",
    "import imageio"
   ]
  },
  {
   "cell_type": "code",
   "execution_count": null,
   "metadata": {},
   "outputs": [],
   "source": [
    "os.chdir('/mnt/c/Users/SA04PA/Documents/repos/ifcb_classifier/notebooks/')"
   ]
  },
  {
   "cell_type": "code",
   "execution_count": null,
   "id": "0f592b1f",
   "metadata": {},
   "outputs": [],
   "source": [
    "data_dir = ifcb.DataDirectory('raw_data')\n",
    "output_path = 'images'"
   ]
  },
  {
   "cell_type": "code",
   "execution_count": null,
   "metadata": {
    "tags": []
   },
   "outputs": [],
   "source": [
    "from pathlib import Path\n",
    "import os\n",
    "\n",
    "for sample_bin in data_dir:\n",
    "    print(sample_bin)\n",
    "    number_of_images = len(sample_bin.images)\n",
    "    lid = sample_bin.lid\n",
    "    print('{} has {} image(s)'.format(lid, number_of_images))\n",
    "    with sample_bin:\n",
    "        path = os.path.join(output_path,lid)\n",
    "        Path(path).mkdir(parents=True,exist_ok=True)\n",
    "        for roi_number in sample_bin.images:\n",
    "            img_path = os.path.join(path, lid + '_' + str(roi_number) + '.png')\n",
    "            print(img_path)\n",
    "            imageio.imwrite(img_path, sample_bin.images[roi_number])"
   ]
  }
 ],
 "metadata": {
  "kernelspec": {
   "display_name": "ifcbnn",
   "language": "python",
   "name": "ifcbnn"
  },
  "language_info": {
   "codemirror_mode": {
    "name": "ipython",
    "version": 3
   },
   "file_extension": ".py",
   "mimetype": "text/x-python",
   "name": "python",
   "nbconvert_exporter": "python",
   "pygments_lexer": "ipython3",
   "version": "3.9.1"
  }
 },
 "nbformat": 4,
 "nbformat_minor": 5
}