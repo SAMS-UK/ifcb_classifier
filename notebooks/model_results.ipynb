{
 "cells": [
  {
   "cell_type": "code",
   "execution_count": 91,
   "metadata": {},
   "outputs": [],
   "source": [
    "import h5py\n",
    "import torch\n",
    "import ifcb\n",
    "from ifcb.data.adc import SCHEMA_VERSION_1\n",
    "from ifcb.data.stitching import InfilledImages\n",
    "import os\n",
    "from torch.utils.data import Dataset, DataLoader\n",
    "from torchvision import transforms, datasets\n",
    "import numpy as np\n",
    "import imageio"
   ]
  },
  {
   "cell_type": "markdown",
   "metadata": {},
   "source": [
    "# Getting classes names"
   ]
  },
  {
   "cell_type": "code",
   "execution_count": 99,
   "metadata": {},
   "outputs": [],
   "source": [
    "model_path = 'training-output/model.pt'\n",
    "model_dict = torch.load(model_path)\n",
    "classes = model_dict['classes']"
   ]
  },
  {
   "cell_type": "markdown",
   "metadata": {},
   "source": [
    "# Getting roi_numbers and scores"
   ]
  },
  {
   "cell_type": "code",
   "execution_count": 132,
   "metadata": {},
   "outputs": [
    {
     "name": "stdout",
     "output_type": "stream",
     "text": [
      "Keys: ['roi_numbers', 'scores']\n"
     ]
    }
   ],
   "source": [
    "filename = 'run-output/ExampleRunResults/D20200605T214358_IFCB010_class_v2.h5'\n",
    "with h5py.File(filename, \"r\") as f:\n",
    "    # List all groups\n",
    "    keys = list(f.keys())\n",
    "    print(\"Keys: %s\" % keys)\n",
    "    # Get the data\n",
    "    roi_numbers = list(f[keys[0]])\n",
    "    scores = list(f[keys[1]])"
   ]
  },
  {
   "cell_type": "markdown",
   "metadata": {},
   "source": [
    "# Converting raw data to images"
   ]
  },
  {
   "cell_type": "code",
   "execution_count": 134,
   "metadata": {},
   "outputs": [],
   "source": [
    "pid = 'D20200605T214358_IFCB010'\n",
    "data_path = 'run-data'\n",
    "output_path = 'run-output/ExampleRunResults'\n",
    "data_dir = ifcb.DataDirectory(data_path)"
   ]
  },
  {
   "cell_type": "code",
   "execution_count": null,
   "metadata": {},
   "outputs": [],
   "source": [
    "for folder_name in classes:\n",
    "    path = output_path + '/' + folder_name\n",
    "    try:\n",
    "        os.mkdir(path)\n",
    "    except OSError:\n",
    "        print (\"Creation of the directory %s failed\" % path)\n",
    "    else:\n",
    "        print (\"Successfully created the directory %s \" % path)"
   ]
  },
  {
   "cell_type": "code",
   "execution_count": 137,
   "metadata": {},
   "outputs": [
    {
     "name": "stdout",
     "output_type": "stream",
     "text": [
      "D20200605T214358_IFCB010 has 6723 image(s)\n"
     ]
    }
   ],
   "source": [
    "for sample_bin in data_dir:\n",
    "    n_images = len(sample_bin.images)\n",
    "    lid = sample_bin.lid\n",
    "    print('{} has {} image(s)'.format(lid, n_images))\n",
    "    with sample_bin:\n",
    "        for roi_number in sample_bin.images:\n",
    "            pos = roi_numbers.index(roi_number)\n",
    "            best_class = np.where(scores[pos] == np.amax(scores[pos]))[0][0]\n",
    "            folder_name = classes[best_class]\n",
    "            img_path = output_path + '/' + folder_name + '/' +  pid + '_' + str(roi_number) + '.png'\n",
    "            imageio.imwrite(img_path, sample_bin.images[roi_number]) "
   ]
  }
 ],
 "metadata": {
  "kernelspec": {
   "display_name": "pyifcb",
   "language": "python",
   "name": "pyifcb"
  },
  "language_info": {
   "codemirror_mode": {
    "name": "ipython",
    "version": 3
   },
   "file_extension": ".py",
   "mimetype": "text/x-python",
   "name": "python",
   "nbconvert_exporter": "python",
   "pygments_lexer": "ipython3",
   "version": "3.8.2"
  }
 },
 "nbformat": 4,
 "nbformat_minor": 4
}
