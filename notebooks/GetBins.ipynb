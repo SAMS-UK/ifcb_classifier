{
 "cells": [
  {
   "cell_type": "code",
   "execution_count": 1,
   "metadata": {},
   "outputs": [],
   "source": [
    "import ifcb\n",
    "import csv\n",
    "from urllib.request import urlopen\n",
    "import numpy as np\n",
    "import os\n",
    "import imageio\n",
    "from pathlib import Path"
   ]
  },
  {
   "cell_type": "code",
   "execution_count": 2,
   "metadata": {},
   "outputs": [],
   "source": [
    "def create_folders(output_path,classes):\n",
    "    for folder_name in classes:\n",
    "        path = output_path + '/' + folder_name\n",
    "        try:\n",
    "            Path(path).mkdir(parents=True, exist_ok=True)\n",
    "        except OSError:\n",
    "            print (\"Creation of the directory %s failed\" % path)"
   ]
  },
  {
   "cell_type": "code",
   "execution_count": 3,
   "metadata": {},
   "outputs": [],
   "source": [
    "def classify_images_in_folders(base_url,output_path,pid,threshold):\n",
    "    \"\"\" Reads dashboard autoclass file and classify images if max score\n",
    "    is greater than the defined threshold. Images will be moved to the \n",
    "    Unclassified folder otherwise.\n",
    "    \"\"\"\n",
    "    # Determine classes list and classes with best score \n",
    "    with urlopen(base_url + pid + '_class_scores.csv') as f :\n",
    "        reader = csv.reader(f.read().decode('utf-8').split('\\n'),delimiter=',')\n",
    "        classes = next(reader)[1:]\n",
    "        classes.append('Unclassified')\n",
    "        create_folders(output_path,classes)\n",
    "        roi_numbers = []\n",
    "        best_classes = []\n",
    "        for row in reader:\n",
    "            if len(row) > 0:\n",
    "                roi_number = int(row[0].split(\"_\")[-1])\n",
    "                roi_numbers.append(roi_number)\n",
    "                scores = [float(score) for score in row[1:]]\n",
    "                max_score = np.amax(scores)\n",
    "                if max_score > threshold:\n",
    "                    best_class = np.where(scores == max_score)[0][0]\n",
    "                else:\n",
    "                    best_class = classes.index('Unclassified')\n",
    "                best_classes.append(best_class)\n",
    "    \n",
    "    # Retrieving images \n",
    "    with ifcb.open_url(base_url + pid) as sample_bin:\n",
    "        print('{} has {} image(s)'.format(sample_bin.lid, len(sample_bin.images)))\n",
    "        results = {k:0 for k in classes}  # Initializing distribution results\n",
    "        for roi_number in sample_bin.images:\n",
    "            pos = roi_numbers.index(roi_number)\n",
    "            best_class = best_classes[pos]\n",
    "            class_name = classes[best_class]\n",
    "            results[class_name] = results[class_name] + 1 # Counting images\n",
    "            img_path = output_path + '/' + class_name + '/' +  pid + '_' + str(roi_number) + '.png'\n",
    "            imageio.imwrite(img_path, sample_bin.images[roi_number])\n",
    "        count_matrix = np.array(list(results.items()))\n",
    "        classes = count_matrix[:,0]\n",
    "        counts = count_matrix[:,1].astype(int).reshape((1,len(classes)))\n",
    "    return classes, counts"
   ]
  },
  {
   "cell_type": "code",
   "execution_count": 6,
   "metadata": {},
   "outputs": [],
   "source": [
    "pids_file = \"bins.csv\"\n",
    "base_url = 'https://ifcb-data.whoi.edu/mvco/'\n",
    "output_dir = 'whoi-data'\n",
    "threshold = 0.5\n",
    "n_classes = 146"
   ]
  },
  {
   "cell_type": "code",
   "execution_count": null,
   "metadata": {},
   "outputs": [],
   "source": [
    "with open(pids_file) as f:\n",
    "    reader = csv.reader(f)\n",
    "    all_counts = np.empty((0,n_classes), int)\n",
    "    for row in reader:\n",
    "        pid = row[0]\n",
    "        classes, counts = classify_images_in_folders(base_url,output_dir,pid,threshold)\n",
    "        all_counts = np.append(all_counts,counts,axis=0) # Aggregatin counts from all files\n",
    "#print(all_counts)"
   ]
  }
 ],
 "metadata": {
  "kernelspec": {
   "display_name": "ifcbnn",
   "language": "python",
   "name": "ifcbnn"
  },
  "language_info": {
   "codemirror_mode": {
    "name": "ipython",
    "version": 3
   },
   "file_extension": ".py",
   "mimetype": "text/x-python",
   "name": "python",
   "nbconvert_exporter": "python",
   "pygments_lexer": "ipython3",
   "version": "3.8.8"
  }
 },
 "nbformat": 4,
 "nbformat_minor": 4
}
